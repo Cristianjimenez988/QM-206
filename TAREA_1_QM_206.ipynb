{
  "nbformat": 4,
  "nbformat_minor": 0,
  "metadata": {
    "colab": {
      "provenance": [],
      "authorship_tag": "ABX9TyPBGoA5sQY1Qk8OI6UwGIZF",
      "include_colab_link": true
    },
    "kernelspec": {
      "name": "python3",
      "display_name": "Python 3"
    },
    "language_info": {
      "name": "python"
    }
  },
  "cells": [
    {
      "cell_type": "markdown",
      "metadata": {
        "id": "view-in-github",
        "colab_type": "text"
      },
      "source": [
        "<a href=\"https://colab.research.google.com/github/Cristianjimenez988/QM-206/blob/main/TAREA_1_QM_206.ipynb\" target=\"_parent\"><img src=\"https://colab.research.google.com/assets/colab-badge.svg\" alt=\"Open In Colab\"/></a>"
      ]
    },
    {
      "cell_type": "markdown",
      "source": [
        "Diccionarios: elementos químicos."
      ],
      "metadata": {
        "id": "jGRyv2EPY-h6"
      }
    },
    {
      "cell_type": "code",
      "execution_count": null,
      "metadata": {
        "colab": {
          "base_uri": "https://localhost:8080/"
        },
        "id": "ohIpW_i9Y93F",
        "outputId": "e2f70011-caa1-4cd8-d547-b3d368a8f9e2"
      },
      "outputs": [
        {
          "output_type": "stream",
          "name": "stdout",
          "text": [
            "[{'simbolo': 'H', 'NA': '1', 'masa': 1.008}, {'simbolo': 'He', 'NA': '2', 'masa': 4.003}, {'simbolo': 'Li', 'NA': '3', 'masa': 6.941}, {'simbolo': 'Be', 'NA': '4', 'masa': 9.012}, {'simbolo': 'B', 'NA': '5', 'masa': 10.811}, {'simbolo': 'C', 'NA': '6', 'masa': 12.011}, {'simbolo': 'N', 'NA': '7', 'masa': 14.007}, {'simbolo': 'O', 'NA': '8', 'masa': 15.999}, {'simbolo': 'F', 'NA': '9', 'masa': 18.998}, {'simbolo': 'Ne', 'NA': '10', 'masa': 20.18}, {'simbolo': 'Na', 'NA': '11', 'masa': 22.99}, {'simbolo': 'Mg', 'NA': '12', 'masa': 24.305}, {'simbolo': 'Al', 'NA': '13', 'masa': 26.982}, {'simbolo': 'Si', 'NA': '14', 'masa': 28.086}, {'simbolo': 'P', 'NA': '15', 'masa': 30.974}, {'simbolo': 'S', 'NA': '16', 'masa': 32.065}, {'simbolo': 'Cl', 'NA': '17', 'masa': 35.453}, {'simbolo': 'Ar', 'NA': '18', 'masa': 39.948}, {'simbolo': 'K', 'NA': '19', 'masa': 39.098}, {'simbolo': 'Ca', 'NA': '20', 'masa': 40.078}]\n"
          ]
        }
      ],
      "source": [
        "elementos=[]\n",
        "elem={\"simbolo\":\"H\",\"NA\":\"1\",\"masa\":1.008}\n",
        "elementos.append(elem)\n",
        "elem={\"simbolo\":\"He\",\"NA\":\"2\",\"masa\":4.003}\n",
        "elementos.append(elem)\n",
        "elem={\"simbolo\":\"Li\",\"NA\":\"3\",\"masa\":6.941}\n",
        "elementos.append(elem)\n",
        "elem={\"simbolo\":\"Be\",\"NA\":\"4\",\"masa\":9.012}\n",
        "elementos.append(elem)\n",
        "elem={\"simbolo\":\"B\",\"NA\":\"5\",\"masa\":10.811}\n",
        "elementos.append(elem)\n",
        "elem={\"simbolo\":\"C\",\"NA\":\"6\",\"masa\":12.011}\n",
        "elementos.append(elem)\n",
        "elem={\"simbolo\":\"N\",\"NA\":\"7\",\"masa\":14.007}\n",
        "elementos.append(elem)\n",
        "elem={\"simbolo\":\"O\",\"NA\":\"8\",\"masa\":15.999}\n",
        "elementos.append(elem)\n",
        "elem={\"simbolo\":\"F\",\"NA\":\"9\",\"masa\":18.998}\n",
        "elementos.append(elem)\n",
        "elem={\"simbolo\":\"Ne\",\"NA\":\"10\",\"masa\":20.180}\n",
        "elementos.append(elem)\n",
        "elem={\"simbolo\":\"Na\",\"NA\":\"11\",\"masa\":22.990}\n",
        "elementos.append(elem)\n",
        "elem={\"simbolo\":\"Mg\",\"NA\":\"12\",\"masa\":24.305}\n",
        "elementos.append(elem)\n",
        "elem={\"simbolo\":\"Al\",\"NA\":\"13\",\"masa\":26.982}\n",
        "elementos.append(elem)\n",
        "elem={\"simbolo\":\"Si\",\"NA\":\"14\",\"masa\":28.086}\n",
        "elementos.append(elem)\n",
        "elem={\"simbolo\":\"P\",\"NA\":\"15\",\"masa\":30.974}\n",
        "elementos.append(elem)\n",
        "elem={\"simbolo\":\"S\",\"NA\":\"16\",\"masa\":32.065}\n",
        "elementos.append(elem)\n",
        "elem={\"simbolo\":\"Cl\",\"NA\":\"17\",\"masa\":35.453}\n",
        "elementos.append(elem)\n",
        "elem={\"simbolo\":\"Ar\",\"NA\":\"18\",\"masa\":39.948}\n",
        "elementos.append(elem)\n",
        "elem={\"simbolo\":\"K\",\"NA\":\"19\",\"masa\":39.098}\n",
        "elementos.append(elem)\n",
        "elem={\"simbolo\":\"Ca\",\"NA\":\"20\",\"masa\":40.078}\n",
        "elementos.append(elem)\n",
        "print(elementos)\n"
      ]
    }
  ]
}